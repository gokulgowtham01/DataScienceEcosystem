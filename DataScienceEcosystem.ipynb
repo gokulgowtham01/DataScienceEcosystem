{
 "cells": [
  {
   "cell_type": "markdown",
   "id": "7c8cb2c9-28a0-4053-a478-bcf4f00e100f",
   "metadata": {},
   "source": [
    "# Data Science Tools and Ecosystem"
   ]
  },
  {
   "cell_type": "markdown",
   "id": "106a9154-90a3-4ae5-ac58-ddc8c2c68d13",
   "metadata": {},
   "source": [
    "## In this notebook, Data Science Tools and Ecosystem are summarized."
   ]
  },
  {
   "cell_type": "markdown",
   "id": "67c48321-1723-4cec-9fca-a6982e93f305",
   "metadata": {
    "tags": []
   },
   "source": [
    "## **Objectives**:"
   ]
  },
  {
   "cell_type": "markdown",
   "id": "4618b79b-3ecb-49bc-b80d-4fe0966b012a",
   "metadata": {},
   "source": [
    "- popular languages that Data Scientists use\n",
    "- libraries used by Data Scientists\n",
    "- examples of evaluating arithmetic expressions"
   ]
  },
  {
   "cell_type": "markdown",
   "id": "ec0766ee-1a69-4ba9-8aab-2dbac301b332",
   "metadata": {},
   "source": [
    "### Some of the popular languages that Data Scientists use are:"
   ]
  },
  {
   "cell_type": "markdown",
   "id": "504ce0ff-7f17-477f-8c41-79c624ba315e",
   "metadata": {},
   "source": [
    "1. Python\n",
    "2. Scala\n",
    "3. R"
   ]
  },
  {
   "cell_type": "markdown",
   "id": "ebde63c2-966b-45fb-94bb-1a64e86b0b9e",
   "metadata": {
    "tags": []
   },
   "source": [
    "### Some of the commonly used libraries used by Data Scientists include:"
   ]
  },
  {
   "cell_type": "markdown",
   "id": "9fd56d73-6966-4e35-a1e3-83175895af7c",
   "metadata": {},
   "source": [
    "1. pandas\n",
    "2. scipy\n",
    "3. matplotlib\n",
    "4. numpy"
   ]
  },
  {
   "cell_type": "markdown",
   "id": "c7aadb3f-26ca-4755-be0e-d80464d32392",
   "metadata": {},
   "source": [
    "| Data Science Tools |\n",
    "|--------------------|\n",
    "| Jupyter Lab        |\n",
    "| R Studio           |\n",
    "| Visual Studio      |"
   ]
  },
  {
   "cell_type": "markdown",
   "id": "e5ee4eb4-54dc-4963-9d20-d8d97fd6a9ad",
   "metadata": {},
   "source": [
    "### Below are a few examples of evaluating arithmetic expressions in Python"
   ]
  },
  {
   "cell_type": "markdown",
   "id": "10b0c3a6-ea18-401f-831b-26a43106c3ef",
   "metadata": {},
   "source": [
    "This a simple arithmetic expression to mutiply then add integers"
   ]
  },
  {
   "cell_type": "code",
   "execution_count": 1,
   "id": "9f83e77c-6e94-4f35-9ca7-98aecbf7074a",
   "metadata": {},
   "outputs": [
    {
     "name": "stdout",
     "output_type": "stream",
     "text": [
      "17\n"
     ]
    }
   ],
   "source": [
    "A=(3*4)+5\n",
    "print(A)"
   ]
  },
  {
   "cell_type": "markdown",
   "id": "8cad0629-1f89-46c1-8033-0bf27f2f620c",
   "metadata": {},
   "source": [
    "This will convert 200 minutes to hours by diving by 60"
   ]
  },
  {
   "cell_type": "code",
   "execution_count": 2,
   "id": "d77af6a4-9917-444d-8464-2b6d85d0db53",
   "metadata": {},
   "outputs": [
    {
     "name": "stdout",
     "output_type": "stream",
     "text": [
      "3.3333333333333335\n"
     ]
    }
   ],
   "source": [
    "hours = 200\n",
    "minutes = hours / 60\n",
    "print(minutes)"
   ]
  },
  {
   "cell_type": "markdown",
   "id": "87bf9071-04ff-4fa2-ba83-f1613344967b",
   "metadata": {},
   "source": [
    "## Author"
   ]
  },
  {
   "cell_type": "markdown",
   "id": "6a1a2944-585e-418b-b18c-cac0794691d2",
   "metadata": {
    "tags": []
   },
   "source": [
    "##### Gokul Gowtham S"
   ]
  },
  {
   "cell_type": "code",
   "execution_count": null,
   "id": "692045fa-c808-40e4-888a-63bfd4f7c9ab",
   "metadata": {},
   "outputs": [],
   "source": []
  }
 ],
 "metadata": {
  "kernelspec": {
   "display_name": "Python 3 (ipykernel)",
   "language": "python",
   "name": "python3"
  },
  "language_info": {
   "codemirror_mode": {
    "name": "ipython",
    "version": 3
   },
   "file_extension": ".py",
   "mimetype": "text/x-python",
   "name": "python",
   "nbconvert_exporter": "python",
   "pygments_lexer": "ipython3",
   "version": "3.9.12"
  }
 },
 "nbformat": 4,
 "nbformat_minor": 5
}
